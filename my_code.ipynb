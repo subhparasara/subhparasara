{
  "nbformat": 4,
  "nbformat_minor": 0,
  "metadata": {
    "colab": {
      "provenance": [],
      "authorship_tag": "ABX9TyN8GiTHsoXV01WXMv9CQlpK",
      "include_colab_link": true
    },
    "kernelspec": {
      "name": "python3",
      "display_name": "Python 3"
    },
    "language_info": {
      "name": "python"
    }
  },
  "cells": [
    {
      "cell_type": "markdown",
      "metadata": {
        "id": "view-in-github",
        "colab_type": "text"
      },
      "source": [
        "<a href=\"https://colab.research.google.com/github/subhparasara/subhparasara/blob/TIDC_NTU/my_code.ipynb\" target=\"_parent\"><img src=\"https://colab.research.google.com/assets/colab-badge.svg\" alt=\"Open In Colab\"/></a>"
      ]
    },
    {
      "cell_type": "code",
      "execution_count": null,
      "metadata": {
        "colab": {
          "base_uri": "https://localhost:8080/"
        },
        "id": "R7UC9bs-5AnS",
        "outputId": "d8e54866-c895-4d62-eeff-5b1b9932cee7"
      },
      "outputs": [
        {
          "output_type": "stream",
          "name": "stdout",
          "text": [
            "--2023-08-29 01:25:41--  https://lhapdf.hepforge.org/downloads/?f=LHAPDF-6.5.4.tar.gz\n",
            "Resolving lhapdf.hepforge.org (lhapdf.hepforge.org)... 129.234.186.186\n",
            "Connecting to lhapdf.hepforge.org (lhapdf.hepforge.org)|129.234.186.186|:443... connected.\n",
            "HTTP request sent, awaiting response... 200 OK\n",
            "Length: unspecified [application/x-gzip]\n",
            "Saving to: ‘LHAPDF-6.5.4.tar.gz’\n",
            "\n",
            "LHAPDF-6.5.4.tar.gz     [   <=>              ] 849.32K  1.17MB/s    in 0.7s    \n",
            "\n",
            "2023-08-29 01:25:44 (1.17 MB/s) - ‘LHAPDF-6.5.4.tar.gz’ saved [869707]\n",
            "\n",
            "checking for a BSD-compatible install... /usr/bin/install -c\n",
            "checking whether build environment is sane... yes\n",
            "checking for a race-free mkdir -p... /usr/bin/mkdir -p\n",
            "checking for gawk... no\n",
            "checking for mawk... mawk\n",
            "checking whether make sets $(MAKE)... yes\n",
            "checking whether make supports nested variables... yes\n",
            "checking whether make supports nested variables... (cached) yes\n",
            "checking for sw_vers... no\n",
            "checking whether make supports the include directive... yes (GNU style)\n",
            "checking whether to compile using MPI... no\n",
            "checking for g++... g++\n",
            "checking whether the C++ compiler works... yes\n",
            "checking for C++ compiler default output file name... a.out\n",
            "checking for suffix of executables... \n",
            "checking whether we are cross compiling... no\n",
            "checking for suffix of object files... o\n",
            "checking whether the compiler supports GNU C++... yes\n",
            "checking whether g++ accepts -g... yes\n",
            "checking for g++ option to enable C++11 features... none needed\n",
            "checking dependency style of g++... gcc3\n",
            "checking whether g++ supports C++11 features by default... yes\n",
            "checking for gcc... gcc\n",
            "checking whether the compiler supports GNU C... yes\n",
            "checking whether gcc accepts -g... yes\n",
            "checking for gcc option to enable C11 features... none needed\n",
            "checking whether gcc understands -c and -o together... yes\n",
            "checking dependency style of gcc... gcc3\n",
            "checking whether ln -s works... yes\n",
            "checking build system type... x86_64-pc-linux-gnu\n",
            "checking host system type... x86_64-pc-linux-gnu\n",
            "checking how to print strings... printf\n",
            "checking for a sed that does not truncate output... /usr/bin/sed\n",
            "checking for grep that handles long lines and -e... /usr/bin/grep\n",
            "checking for egrep... /usr/bin/grep -E\n",
            "checking for fgrep... /usr/bin/grep -F\n",
            "checking for ld used by gcc... /usr/bin/ld\n",
            "checking if the linker (/usr/bin/ld) is GNU ld... yes\n",
            "checking for BSD- or MS-compatible name lister (nm)... /usr/bin/nm -B\n",
            "checking the name lister (/usr/bin/nm -B) interface... BSD nm\n",
            "checking the maximum length of command line arguments... 1572864\n",
            "checking how to convert x86_64-pc-linux-gnu file names to x86_64-pc-linux-gnu format... func_convert_file_noop\n",
            "checking how to convert x86_64-pc-linux-gnu file names to toolchain format... func_convert_file_noop\n",
            "checking for /usr/bin/ld option to reload object files... -r\n",
            "checking for file... file\n",
            "checking for objdump... objdump\n",
            "checking how to recognize dependent libraries... pass_all\n",
            "checking for dlltool... no\n",
            "checking how to associate runtime and link libraries... printf %s\\n\n",
            "checking for ar... ar\n",
            "checking for archiver @FILE support... @\n",
            "checking for strip... strip\n",
            "checking for ranlib... ranlib\n",
            "checking command to parse /usr/bin/nm -B output from gcc object... ok\n",
            "checking for sysroot... no\n",
            "checking for a working dd... /usr/bin/dd\n",
            "checking how to truncate binary pipes... /usr/bin/dd bs=4096 count=1\n",
            "checking for mt... no\n",
            "checking if : is a manifest tool... no\n",
            "checking for stdio.h... yes\n",
            "checking for stdlib.h... yes\n",
            "checking for string.h... yes\n",
            "checking for inttypes.h... yes\n",
            "checking for stdint.h... yes\n",
            "checking for strings.h... yes\n",
            "checking for sys/stat.h... yes\n",
            "checking for sys/types.h... yes\n",
            "checking for unistd.h... yes\n",
            "checking for dlfcn.h... yes\n",
            "checking for objdir... .libs\n",
            "checking if gcc supports -fno-rtti -fno-exceptions... no\n",
            "checking for gcc option to produce PIC... -fPIC -DPIC\n",
            "checking if gcc PIC flag -fPIC -DPIC works... yes\n",
            "checking if gcc static flag -static works... yes\n",
            "checking if gcc supports -c -o file.o... yes\n",
            "checking if gcc supports -c -o file.o... (cached) yes\n",
            "checking whether the gcc linker (/usr/bin/ld -m elf_x86_64) supports shared libraries... yes\n",
            "checking whether -lc should be explicitly linked in... no\n",
            "checking dynamic linker characteristics... GNU/Linux ld.so\n",
            "checking how to hardcode library paths into programs... immediate\n",
            "checking whether stripping libraries is possible... yes\n",
            "checking if libtool supports shared libraries... yes\n",
            "checking whether to build shared libraries... yes\n",
            "checking whether to build static libraries... yes\n",
            "checking how to run the C++ preprocessor... g++ -E\n",
            "checking for ld used by g++... /usr/bin/ld -m elf_x86_64\n",
            "checking if the linker (/usr/bin/ld -m elf_x86_64) is GNU ld... yes\n",
            "checking whether the g++ linker (/usr/bin/ld -m elf_x86_64) supports shared libraries... yes\n",
            "checking for g++ option to produce PIC... -fPIC -DPIC\n",
            "checking if g++ PIC flag -fPIC -DPIC works... yes\n",
            "checking if g++ static flag -static works... yes\n",
            "checking if g++ supports -c -o file.o... yes\n",
            "checking if g++ supports -c -o file.o... (cached) yes\n",
            "checking whether the g++ linker (/usr/bin/ld -m elf_x86_64) supports shared libraries... yes\n",
            "checking dynamic linker characteristics... (cached) GNU/Linux ld.so\n",
            "checking how to hardcode library paths into programs... immediate\n",
            "configure: building LHAGLUE Fortran wrappers\n",
            "configure: building LHAGLUE C++ wrappers\n",
            "checking for doxygen... no\n",
            "checking for python... /usr/local/bin/python\n",
            "checking for a version of Python >= '2.1.0'... yes\n",
            "checking for a version of Python >= '2.7.3'... yes\n",
            "checking for the sysconfig Python package... yes\n",
            "checking for Python include path... -I/usr/include/python3.10\n",
            "checking for Python library path... -L/usr/lib/x86_64-linux-gnu -lpython3.10\n",
            "checking for Python site-packages path... /usr/local/lib/python3.10/dist-packages\n",
            "checking for Python platform specific site-packages path... \n",
            "checking python extra libraries... -lcrypt -ldl  -lm -lm\n",
            "checking python extra linking flags... -Xlinker -export-dynamic -Wl,-O1 -Wl,-Bsymbolic-functions\n",
            "checking consistency of all components of python development environment... yes\n",
            "configure: LHAPDF Python library to be installed to NONE/local/lib/python3.10/dist-packages\n",
            "checking for python version... 3.10\n",
            "checking for python platform... linux\n",
            "checking for GNU default python prefix... ${prefix}\n",
            "checking for GNU default python exec_prefix... ${exec_prefix}\n",
            "checking for python script directory (pythondir)... ${PYTHON_PREFIX}/local/lib/python3.10/dist-packages\n",
            "checking for python extension module directory (pyexecdir)... ${PYTHON_EXEC_PREFIX}/local/lib/python3.10/dist-packages\n",
            "checking for Cython >= 0.24... yes\n",
            "configure: Cython >= 0.24 found: Python extension source can be rebuilt (for developers)\n",
            "checking if the g++ compiler accepts the -pedantic flag... yes\n",
            "checking if the g++ compiler accepts the -Wall flag... yes\n",
            "checking if the g++ compiler accepts the -Wno-long-long flag... yes\n",
            "checking if the g++ compiler accepts the -Qunused-arguments flag... no\n",
            "checking if the g++ compiler accepts the -Wshadow flag... yes\n",
            "checking that generated files are newer than configure... done\n",
            "configure: creating ./config.status\n",
            "config.status: creating Makefile\n",
            "config.status: creating src/Makefile\n",
            "config.status: creating src/yamlcpp/Makefile\n",
            "config.status: creating include/Makefile\n",
            "config.status: creating include/LHAPDF/Makefile\n",
            "config.status: creating bin/Makefile\n",
            "config.status: creating bin/lhapdf-config\n",
            "config.status: creating examples/Makefile\n",
            "config.status: creating tests/Makefile\n",
            "config.status: creating doc/Makefile\n",
            "config.status: creating doc/Doxyfile\n",
            "config.status: creating lhapdf.pc\n",
            "config.status: creating wrappers/Makefile\n",
            "config.status: creating wrappers/python/Makefile\n",
            "config.status: creating wrappers/python/build.py\n",
            "config.status: creating config/config.h\n",
            "config.status: creating include/LHAPDF/Version.h\n",
            "config.status: include/LHAPDF/Version.h is unchanged\n",
            "config.status: executing depfiles commands\n",
            "config.status: executing libtool commands\n",
            "\n",
            "****************************************************************\n",
            "IMPORTANT INFORMATION ABOUT PDF SETS\n",
            "\n",
            "LHAPDF no longer bundles PDF set data in the package tarball.\n",
            "The sets are instead all stored online at\n",
            "  http://lhapdfsets.web.cern.ch/lhapdfsets/current/\n",
            "and you should install those that you wish to use into\n",
            "  /usr/local/share/LHAPDF\n",
            "\n",
            "The downloadable PDF sets are packaged as tarballs, which\n",
            "must be expanded to be used. The simplest way to do this is with\n",
            "the 'lhapdf' script, e.g. to install the CT10nlo PDF set:\n",
            "  lhapdf install CT10nlo\n",
            "The same effect can be achieved manually with, e.g.:\n",
            "  wget http://lhapdfsets.web.cern.ch/lhapdfsets/current/CT10nlo.tar.gz -O- | tar xz -C /usr/local/share/LHAPDF\n",
            "\n",
            "****************************************************************\n",
            "\n",
            "make: Entering directory '/content/LHAPDF-6.5.4'\n",
            "Making all in src\n",
            "make[1]: Entering directory '/content/LHAPDF-6.5.4/src'\n",
            "Making all in yamlcpp\n",
            "make[2]: Entering directory '/content/LHAPDF-6.5.4/src/yamlcpp'\n",
            "  CXX      liblhapdf_yaml_cpp_la-binary.lo\n",
            "  CXX      liblhapdf_yaml_cpp_la-emitterstate.lo\n",
            "  CXX      liblhapdf_yaml_cpp_la-node.lo\n",
            "  CXX      liblhapdf_yaml_cpp_la-parser.lo\n",
            "  CXX      liblhapdf_yaml_cpp_la-simplekey.lo\n",
            "  CXX      liblhapdf_yaml_cpp_la-convert.lo\n",
            "  CXX      liblhapdf_yaml_cpp_la-emitterutils.lo\n",
            "  CXX      liblhapdf_yaml_cpp_la-node_data.lo\n",
            "  CXX      liblhapdf_yaml_cpp_la-regex_yaml.lo\n",
            "  CXX      liblhapdf_yaml_cpp_la-singledocparser.lo\n",
            "  CXX      liblhapdf_yaml_cpp_la-directives.lo\n",
            "  CXX      liblhapdf_yaml_cpp_la-exceptions.lo\n",
            "  CXX      liblhapdf_yaml_cpp_la-nodeevents.lo\n",
            "  CXX      liblhapdf_yaml_cpp_la-scanner.lo\n",
            "  CXX      liblhapdf_yaml_cpp_la-stream.lo\n",
            "  CXX      liblhapdf_yaml_cpp_la-emit.lo\n",
            "  CXX      liblhapdf_yaml_cpp_la-exp.lo\n",
            "  CXX      liblhapdf_yaml_cpp_la-null.lo\n",
            "  CXX      liblhapdf_yaml_cpp_la-scanscalar.lo\n",
            "  CXX      liblhapdf_yaml_cpp_la-tag.lo\n",
            "  CXX      liblhapdf_yaml_cpp_la-emitfromevents.lo\n",
            "  CXX      liblhapdf_yaml_cpp_la-memory.lo\n",
            "  CXX      liblhapdf_yaml_cpp_la-ostream_wrapper.lo\n",
            "  CXX      liblhapdf_yaml_cpp_la-scantag.lo\n",
            "  CXX      liblhapdf_yaml_cpp_la-depthguard.lo\n",
            "  CXX      liblhapdf_yaml_cpp_la-emitter.lo\n",
            "  CXX      liblhapdf_yaml_cpp_la-nodebuilder.lo\n",
            "  CXX      liblhapdf_yaml_cpp_la-parse.lo\n"
          ]
        }
      ],
      "source": [
        "LHAPDF_VERSION = '6.5.4'\n",
        "SITE_PACKGE_DIR = __import__('site').getsitepackages()[0]\n",
        "PWD = __import__('os').getcwd()\n",
        "PYTHON_VERSION = '%s.%s' % __import__('sys').version_info[0:2]\n",
        "!wget https://lhapdf.hepforge.org/downloads/?f=LHAPDF-{LHAPDF_VERSION}.tar.gz -O LHAPDF-{LHAPDF_VERSION}.tar.gz\n",
        "!tar xf LHAPDF-{LHAPDF_VERSION}.tar.gz\n",
        "!cd LHAPDF-{LHAPDF_VERSION} && ./configure\n",
        "!make -C LHAPDF-{LHAPDF_VERSION} -j 2\n",
        "!make -C LHAPDF-{LHAPDF_VERSION} install\n",
        "!cd {SITE_PACKGE_DIR} && ln -s {PWD}/LHAPDF-{LHAPDF_VERSION}/wrappers/python/NONE/local/lib/python{PYTHON_VERSION}/dist-packages/lhapdf\n",
        "!cd /usr/lib && ln -s {PWD}/LHAPDF-{LHAPDF_VERSION}/src/.libs/libLHAPDF.so\n",
        "!lhapdf update"
      ]
    },
    {
      "cell_type": "code",
      "source": [
        "import lhapdf\n",
        "import numpy as np\n",
        "import matplotlib.pyplot as plt\n",
        "import pandas as pd"
      ],
      "metadata": {
        "id": "5Nd1LjxF5WER"
      },
      "execution_count": null,
      "outputs": []
    },
    {
      "cell_type": "code",
      "source": [
        "!lhapdf install cteq6l1"
      ],
      "metadata": {
        "id": "aYdyUxk9rcOl",
        "outputId": "34df57ed-c164-4a32-f78a-68d64e6f2b2c",
        "colab": {
          "base_uri": "https://localhost:8080/"
        }
      },
      "execution_count": null,
      "outputs": [
        {
          "output_type": "stream",
          "name": "stdout",
          "text": [
            "PDF already installed: cteq6l1 (use --upgrade to force install)\n"
          ]
        }
      ]
    },
    {
      "cell_type": "code",
      "source": [
        "# call the central number (0) of CTEQ6L1\n",
        "p = lhapdf.mkPDF(\"cteq6l1/0\")\n",
        "\n",
        "# let us look at the flavors, they follow convention of particle data group\n",
        "# d = 1, u = 2, s = 3, c = 4, b = 5, g = 21\n",
        "print('flavor:', p.flavors())\n",
        "# lhapdf gives by default - xfxQ2: x * f(x, Q^2)\n",
        "#                      or - xfxQ:  x * f(x, Q)\n",
        "\n",
        "q = 2.0\n",
        "xx = np.geomspace(0.01, 1)\n",
        "gg = [p.xfxQ(0, x, q) for x in xx]\n",
        "dd = [p.xfxQ(1, x, q) for x in xx]\n",
        "uu = [p.xfxQ(2, x, q) for x in xx]\n",
        "ss = [p.xfxQ(3, x, q) for x in xx]\n",
        "\n",
        "plt.plot(xx, gg, 'red', label='')\n",
        "plt.plot(xx, uu, 'green', label='')\n",
        "plt.plot(xx, dd, 'blue', label='')\n",
        "plt.plot(xx, ss, 'magenta', label='')\n",
        "plt.title(f'Q = {q} GeV')\n",
        "plt.xlabel('')\n",
        "plt.ylabel('')\n",
        "plt.legend()\n",
        "plt.grid()\n",
        "plt.ylim(0, 1)\n",
        "plt.show()\n",
        "plt.close()"
      ],
      "metadata": {
        "id": "8myyX72vrgnm",
        "outputId": "55a403dc-b982-408e-d7d9-12c789e188f6",
        "colab": {
          "base_uri": "https://localhost:8080/",
          "height": 507
        }
      },
      "execution_count": null,
      "outputs": [
        {
          "output_type": "stream",
          "name": "stderr",
          "text": [
            "WARNING:matplotlib.legend:No artists with labels found to put in legend.  Note that artists whose label start with an underscore are ignored when legend() is called with no argument.\n"
          ]
        },
        {
          "output_type": "stream",
          "name": "stdout",
          "text": [
            "flavor: [-5, -4, -3, -2, -1, 1, 2, 3, 4, 5, 21]\n"
          ]
        },
        {
          "output_type": "display_data",
          "data": {
            "text/plain": [
              "<Figure size 640x480 with 1 Axes>"
            ],
            "image/png": "[encoded data removed]"
          },
          "metadata": {}
        }
      ]
    },
    {
      "cell_type": "code",
      "source": [
        "!lhapdf install MAPFF10NLOPIsum"
      ],
      "metadata": {
        "id": "qC9bEf1trjRP",
        "outputId": "7d5cfa77-8397-4b47-9a0e-ad2b00704609",
        "colab": {
          "base_uri": "https://localhost:8080/"
        }
      },
      "execution_count": null,
      "outputs": [
        {
          "output_type": "stream",
          "name": "stdout",
          "text": [
            "PDF already installed: MAPFF10NLOPIsum (use --upgrade to force install)\n"
          ]
        }
      ]
    },
    {
      "cell_type": "code",
      "source": [
        "pisum = lhapdf.mkPDF(\"MAPFF10NLOPIsum/0\")\n",
        "pisum.flavors()\n",
        "\n",
        "x = 0.3\n",
        "Q = 10.0\n",
        "bbf= pisum.xfxQ(-5, x, Q)/2.0\n",
        "cbf= pisum.xfxQ(-4, x, Q)/2.0\n",
        "sbf= pisum.xfxQ(-3, x, Q)/2.0\n",
        "ubf= pisum.xfxQ(-2, x, Q)/2.0\n",
        "dbf= pisum.xfxQ(-1, x, Q)/2.0\n",
        "df = pisum.xfxQ(1, x, Q)/2.0\n",
        "uf = pisum.xfxQ(2, x, Q)/2.0\n",
        "sf = pisum.xfxQ(3, x, Q)/2.0\n",
        "cf = pisum.xfxQ(4, x, Q)/2.0\n",
        "bf = pisum.xfxQ(5, x, Q)/2.0\n",
        "gf = pisum.xfxQ(21, x, Q)/2.0\n",
        "print('%0.2e, %0.2e, %0.2e, %0.2e, %0.2e' %(bbf,cbf,sbf,ubf,dbf))\n",
        "print('%0.2e, %0.2e, %0.2e, %0.2e, %0.2e, %0.2e' %(df,uf,sf,cf,bf,gf))"
      ],
      "metadata": {
        "id": "NZVg2j-ormeX",
        "outputId": "c206333c-d078-449f-a8cc-2252ddabab2e",
        "colab": {
          "base_uri": "https://localhost:8080/"
        }
      },
      "execution_count": null,
      "outputs": [
        {
          "output_type": "stream",
          "name": "stdout",
          "text": [
            "1.13e-01, 2.55e-01, 2.73e-01, 2.39e-01, 2.06e-01\n",
            "2.06e-01, 2.39e-01, 2.73e-01, 2.55e-01, 1.13e-01, 1.19e-01\n"
          ]
        }
      ]
    },
    {
      "cell_type": "code",
      "source": [
        "# construct light flavor PDFs and FFs\n",
        "# note: for now, we only need PDFs and FFs of quarks\n",
        "def PDF(x, Q):\n",
        "    u = p.xfxQ(2, x, Q)/x\n",
        "    d = p.xfxQ(1, x, Q)/x\n",
        "    ub= p.xfxQ(-2, x, Q)/x\n",
        "    db= p.xfxQ(-1, x, Q)/x\n",
        "    s = p.xfxQ(3, x, Q)/x\n",
        "    g = p.xfxQ(21, x, Q)/x\n",
        "\n",
        "    return u,d,ub,db,s,g\n",
        "\n",
        "def FF(hh, x, Q):\n",
        "    fu = hh.xfxQ(2, x, Q)/x/2.0\n",
        "    fub= hh.xfxQ(-2, x, Q)/x/2.0\n",
        "    fd = hh.xfxQ(1, x, Q)/x/2.0\n",
        "    fdb= hh.xfxQ(-1, x, Q)/x/2.0\n",
        "    fs = hh.xfxQ(3, x, Q)/x/2.0\n",
        "    fsb= hh.xfxQ(-3, x, Q)/x/2.0\n",
        "    fg = hh.xfxQ(21, x, Q)/x/2.0\n",
        "\n",
        "    return fu,fub,fd,fdb,fs,fsb,fg"
      ],
      "metadata": {
        "id": "PqUeiURaro-X"
      },
      "execution_count": null,
      "outputs": []
    },
    {
      "cell_type": "code",
      "source": [
        "!pip install vegas"
      ],
      "metadata": {
        "id": "zYtIGcD1rr28",
        "outputId": "b305fb08-f2d8-4fdb-e77d-9b61313fa5e5",
        "colab": {
          "base_uri": "https://localhost:8080/"
        }
      },
      "execution_count": null,
      "outputs": [
        {
          "output_type": "stream",
          "name": "stdout",
          "text": [
            "Requirement already satisfied: vegas in /usr/local/lib/python3.10/dist-packages (5.4.2)\n",
            "Requirement already satisfied: numpy>=1.16 in /usr/local/lib/python3.10/dist-packages (from vegas) (1.23.5)\n",
            "Requirement already satisfied: gvar>=11.11.1 in /usr/local/lib/python3.10/dist-packages (from vegas) (11.11.13)\n",
            "Requirement already satisfied: scipy in /usr/local/lib/python3.10/dist-packages (from gvar>=11.11.1->vegas) (1.10.1)\n"
          ]
        }
      ]
    },
    {
      "cell_type": "code",
      "source": [
        "def alpha(Q):\n",
        "    mb = 4.5\n",
        "    if(Q <= mb):\n",
        "        nf = 4\n",
        "        lam_QCD = 0.215\n",
        "    else:\n",
        "        nf = 5\n",
        "        lam_QCD = 0.165\n",
        "\n",
        "    b0 = 11.0 - 2.0/3.0*nf\n",
        "    tt = 2.0*np.log(Q/lam_QCD)\n",
        "    return 4.0*np.pi/(b0*tt)"
      ],
      "metadata": {
        "id": "SDKM9o_RrudM"
      },
      "execution_count": null,
      "outputs": []
    },
    {
      "cell_type": "code",
      "source": [
        "def Upp(s, t, u):\n",
        "    Nc = 3.0\n",
        "#   qq' --> qq'\n",
        "    WQ1=(Nc**2-1.0)/(2.0*Nc**2)*(s*s+u*u)/(t*t)\n",
        "#   qq  ->qq\n",
        "    WQ2=(Nc**2-1.0)/(2.0*Nc**2)*( (s*s+u*u)/(t*t)+(s*s+t*t)/(u*u) ) \\\n",
        "         -(Nc**2-1.0)/(Nc**3)*(s*s)/(t*u)\n",
        "#   qqb ->q'qb'\n",
        "    WQ3=(Nc**2-1.0)/(2.0*Nc**2)*(t*t+u*u)/(s*s)\n",
        "#   qqb ->qqb\n",
        "    WQ4=(Nc**2-1.0)/(2.0*Nc**2)*( (s*s+u*u)/(t*t)+(t*t+u*u)/(s*s) ) \\\n",
        "        -(Nc**2-1.0)/(Nc**3)*(u*u)/(s*t)\n",
        "#   qqb ->gg\n",
        "    WQ5=(Nc**2-1.0)**2/(2.0*Nc**3)*(u/t+t/u) \\\n",
        "    -(Nc**2-1.0)/Nc*(t*t+u*u)/(s*s)\n",
        "#   gg  ->qqb\n",
        "    WQ6=1.0/(2.0*Nc)*(t/u+u/t)-Nc/(Nc**2-1.0)*(t*t+u*u)/(s*s)\n",
        "#   qg  ->qg\n",
        "    WQ7=(Nc**2-1.0)/(2.0*Nc**2)*(-s/u-u/s)+(s*s+u*u)/(t*t)\n",
        "#   gg  ->gg\n",
        "    WQ8=4.0*Nc**2/(Nc**2-1.0)*(3.0-t*u/(s*s)-s*u/(t*t)-s*t/(u*u))\n",
        "\n",
        "    return WQ1, WQ2, WQ3, WQ4, WQ5, WQ6, WQ7, WQ8"
      ],
      "metadata": {
        "id": "o_EbL1CvryOY"
      },
      "execution_count": null,
      "outputs": []
    },
    {
      "cell_type": "code",
      "source": [
        "def sigma(xa, zc, y, roots, pT, scale):\n",
        "    roots2 = roots**2\n",
        "    AA=xa*roots2-pT/zc*roots*np.exp(y)\n",
        "    BB=xa*pT/zc*roots*np.exp(-y)\n",
        "    xb=BB/AA\n",
        "\n",
        "    sh=xa*xb*roots2\n",
        "    uh=-pT/zc*xb*roots*np.exp(y)\n",
        "    th=-pT/zc*xa*roots*np.exp(-y)\n",
        "\n",
        "    if(xa < 1. and xa > 0. and xb < 1. and xb > 0. and zc < 1. and zc > 0.):\n",
        "        U1,D1,UB1,DB1,S1,GL1 = PDF(xa, scale)\n",
        "        U2,D2,UB2,DB2,S2,GL2 = PDF(xb, scale)\n",
        "        fu,fub,fd,fdb,fs,fsb,fg = FF(pisum, zc, scale)\n",
        "        WQ1,WQ2,WQ3,WQ4,WQ5,WQ6,WQ7,WQ8 = Upp(sh,th,uh)\n",
        "        WT1,WT2,WT3,WT4,WT5,WT6,WT7,WT8 = Upp(sh,uh,th)\n",
        "\n",
        "        SIG1=WQ2*(U1*U2*fu+UB1*UB2*fub+D1*D2*fd+DB1*DB2*fdb+S1*S2*fs+S1*S2*fsb) \\\n",
        "            +WQ3*(U1*UB2*(fd+fs)+D1*DB2*(fu+fs)+S1*S2*(fu+fd) \\\n",
        "            +UB1*U2*(fdb+fsb)+DB1*D2*(fub+fsb)+S1*S2*(fub+fdb)) \\\n",
        "            +WT3*(UB1*U2*(fd+fs)+DB1*D2*(fu+fs)+S1*S2*(fu+fd) \\\n",
        "            +U1*UB2*(fdb+fsb)+D1*DB2*(fub+fsb)+S1*S2*(fub+fdb))\n",
        "\n",
        "        SIG2=WQ4*(U1*UB2*fu+D1*DB2*fd+S1*S2*fs+UB1*U2*fub+DB1*D2*fdb+S1*S2*fsb) \\\n",
        "            +WT4*(UB1*U2*fu+DB1*D2*fd+S1*S2*fs+U1*UB2*fub+D1*DB2*fdb+S1*S2*fsb) \\\n",
        "            +WQ1*(U1*(D2+DB2+S2+S2)*fu+D1*(U2+UB2+S2+S2)*fd+UB1*(D2+DB2+S2+S2)*fub \\\n",
        "            +DB1*(U2+UB2+S2+S2)*fdb+S1*(U2+UB2+D2+DB2)*fs+S1*(U2+UB2+D2+DB2)*fsb)\n",
        "\n",
        "        SIG3=WT1*((D1+DB1+S1+S1)*U2*fu+(U1+UB1+S1+S1)*D2*fd \\\n",
        "            +(D1+DB1+S1+S1)*UB2*fub+(U1+UB1+S1+S1)*DB2*fdb \\\n",
        "            +(U1+UB1+D1+DB1)*S2*fs+(U1+UB1+D1+DB1)*S2*fsb) \\\n",
        "            +WQ5*(U1*UB2+D1*DB2+S1*S2)*fg+WT5*(UB1*U2+DB1*D2+S1*S2)*fg\n",
        "\n",
        "        SIG4=WQ6*GL1*GL2*(fu+fd+fs)+WT6*GL1*GL2*(fub+fdb+fsb) \\\n",
        "            +WQ7*(GL2*(U1*fu+D1*fd+S1*fs+UB1*fub+DB1*fdb+S1*fsb) \\\n",
        "            +GL1*fg*(U2+UB2+D2+DB2+S2+S2)) \\\n",
        "            +WT7*(GL1*(U2*fu+D2*fd+S2*fs+UB2*fub+DB2*fdb+S2*fsb) \\\n",
        "            +GL2*fg*(U1+UB1+D1+DB1+S1+S1)) \\\n",
        "            +WQ8*GL1*GL2*fg\n",
        "\n",
        "        SIG=SIG1+SIG2+SIG3+SIG4\n",
        "\n",
        "        sigma = 1./xa/(zc*zc)/BB*SIG*alpha(scale)**2/roots2\n",
        "    else:\n",
        "        sigma = 0.\n",
        "\n",
        "    return sigma"
      ],
      "metadata": {
        "id": "nd42r-cOr1Kf"
      },
      "execution_count": null,
      "outputs": []
    },
    {
      "cell_type": "code",
      "source": [
        "import vegas"
      ],
      "metadata": {
        "id": "HXsaAQbJr4vA"
      },
      "execution_count": null,
      "outputs": []
    },
    {
      "cell_type": "code",
      "source": [
        "def dist_vegas(roots, pT, scale):\n",
        "    convert = 0.389\n",
        "    def cross_before(val):\n",
        "        xa = val[0]\n",
        "        zc = val[1]\n",
        "        y  = val[2]\n",
        "        return sigma(xa, zc, y, roots, pT, scale)\n",
        "\n",
        "    ymin = -0.35; ymax = 0.35; dY = ymax - ymin\n",
        "    integ = vegas.Integrator([[0, 1], [0, 1], [ymin, ymax]])\n",
        "    result = integ(cross_before, nitn=10, neval=10000)\n",
        "    return convert/dY*result.mean"
      ],
      "metadata": {
        "id": "laRD0P1jr63m"
      },
      "execution_count": null,
      "outputs": []
    },
    {
      "cell_type": "code",
      "source": [
        "roots = 200.\n",
        "pT_a = [1.5, 2.5, 3.5, 4.5, 5.5, 6.5, 7.5, 8.5, 9.5, 10.5, 11.5, 12.5, 13.5, 14.5, 15.5, 16.5, 17.5, 18.5, 19.5]\n",
        "num0 = len(pT_a)\n",
        "cross = [0.]*num0\n",
        "for i in range(num0):\n",
        "    pT = pT_a[i]\n",
        "    scale = pT\n",
        "    cross[i] = dist_vegas(roots, pT, scale)\n",
        "    print('%0.3e\\t %0.3e' %(pT, cross[i]))"
      ],
      "metadata": {
        "id": "kNgUpkAtr9HC",
        "outputId": "e15ceddc-e355-40c8-8145-60d98acd2074",
        "colab": {
          "base_uri": "https://localhost:8080/"
        }
      },
      "execution_count": null,
      "outputs": [
        {
          "output_type": "stream",
          "name": "stdout",
          "text": [
            "1.500e+00\t 7.841e-02\n",
            "2.500e+00\t 2.993e-03\n",
            "3.500e+00\t 2.907e-04\n",
            "4.500e+00\t 4.706e-05\n",
            "5.500e+00\t 1.053e-05\n",
            "6.500e+00\t 2.927e-06\n",
            "7.500e+00\t 9.521e-07\n",
            "8.500e+00\t 3.500e-07\n",
            "9.500e+00\t 1.407e-07\n",
            "1.050e+01\t 6.119e-08\n",
            "1.150e+01\t 2.830e-08\n",
            "1.250e+01\t 1.376e-08\n",
            "1.350e+01\t 7.008e-09\n",
            "1.450e+01\t 3.701e-09\n",
            "1.550e+01\t 2.016e-09\n",
            "1.650e+01\t 1.127e-09\n",
            "1.750e+01\t 6.482e-10\n",
            "1.850e+01\t 3.802e-10\n",
            "1.950e+01\t 2.276e-10\n"
          ]
        }
      ]
    },
    {
      "cell_type": "code",
      "source": [
        "from google.colab import drive\n",
        "drive.mount('/content/drive')\n",
        "import sys\n",
        "sys.path.append('/content/drive/MyDrive/TIDC_Autumn_School_NTU/TIDC_NTU')"
      ],
      "metadata": {
        "id": "D9IbO-NSsBEk",
        "outputId": "578a1c6b-4e11-46a5-fa32-0c4b5752ea8c",
        "colab": {
          "base_uri": "https://localhost:8080/"
        }
      },
      "execution_count": null,
      "outputs": [
        {
          "output_type": "stream",
          "name": "stdout",
          "text": [
            "Drive already mounted at /content/drive; to attempt to forcibly remount, call drive.mount(\"/content/drive\", force_remount=True).\n"
          ]
        }
      ]
    },
    {
      "cell_type": "code",
      "source": [
        "df = pd.DataFrame({\n",
        "    \"pT\": pT_a,\n",
        "    \"cross\": cross})\n",
        "df.to_csv('python_thy.csv', index=False)\n",
        "\n",
        "# prepare for plots\n",
        "python_thy = pd.read_csv('python_thy.csv')\n",
        "python_thy.head()"
      ],
      "metadata": {
        "id": "ehbRvUWesKkU",
        "outputId": "88b400f7-9a96-4963-ec5b-5111ce0de732",
        "colab": {
          "base_uri": "https://localhost:8080/",
          "height": 206
        }
      },
      "execution_count": null,
      "outputs": [
        {
          "output_type": "execute_result",
          "data": {
            "text/plain": [
              "    pT     cross\n",
              "0  1.5  0.078407\n",
              "1  2.5  0.002993\n",
              "2  3.5  0.000291\n",
              "3  4.5  0.000047\n",
              "4  5.5  0.000011"
            ],
            "text/html": [
              "\n",
              "  <div id=\"df-6fa64626-4310-46cb-9849-e0eb1029bff2\" class=\"colab-df-container\">\n",
              "    <div>\n",
              "<style scoped>\n",
              "    .dataframe tbody tr th:only-of-type {\n",
              "        vertical-align: middle;\n",
              "    }\n",
              "\n",
              "    .dataframe tbody tr th {\n",
              "        vertical-align: top;\n",
              "    }\n",
              "\n",
              "    .dataframe thead th {\n",
              "        text-align: right;\n",
              "    }\n",
              "</style>\n",
              "<table border=\"1\" class=\"dataframe\">\n",
              "  <thead>\n",
              "    <tr style=\"text-align: right;\">\n",
              "      <th></th>\n",
              "      <th>pT</th>\n",
              "      <th>cross</th>\n",
              "    </tr>\n",
              "  </thead>\n",
              "  <tbody>\n",
              "    <tr>\n",
              "      <th>0</th>\n",
              "      <td>1.5</td>\n",
              "      <td>0.078407</td>\n",
              "    </tr>\n",
              "    <tr>\n",
              "      <th>1</th>\n",
              "      <td>2.5</td>\n",
              "      <td>0.002993</td>\n",
              "    </tr>\n",
              "    <tr>\n",
              "      <th>2</th>\n",
              "      <td>3.5</td>\n",
              "      <td>0.000291</td>\n",
              "    </tr>\n",
              "    <tr>\n",
              "      <th>3</th>\n",
              "      <td>4.5</td>\n",
              "      <td>0.000047</td>\n",
              "    </tr>\n",
              "    <tr>\n",
              "      <th>4</th>\n",
              "      <td>5.5</td>\n",
              "      <td>0.000011</td>\n",
              "    </tr>\n",
              "  </tbody>\n",
              "</table>\n",
              "</div>\n",
              "    <div class=\"colab-df-buttons\">\n",
              "\n",
              "  <div class=\"colab-df-container\">\n",
              "    <button class=\"colab-df-convert\" onclick=\"convertToInteractive('df-6fa64626-4310-46cb-9849-e0eb1029bff2')\"\n",
              "            title=\"Convert this dataframe to an interactive table.\"\n",
              "            style=\"display:none;\">\n",
              "\n",
              "  <svg xmlns=\"http://www.w3.org/2000/svg\" height=\"24px\" viewBox=\"0 -960 960 960\">\n",
              "    <path d=\"M120-120v-720h720v720H120Zm60-500h600v-160H180v160Zm220 220h160v-160H400v160Zm0 220h160v-160H400v160ZM180-400h160v-160H180v160Zm440 0h160v-160H620v160ZM180-180h160v-160H180v160Zm440 0h160v-160H620v160Z\"/>\n",
              "  </svg>\n",
              "    </button>\n",
              "\n",
              "  <style>\n",
              "    .colab-df-container {\n",
              "      display:flex;\n",
              "      gap: 12px;\n",
              "    }\n",
              "\n",
              "    .colab-df-convert {\n",
              "      background-color: #E8F0FE;\n",
              "      border: none;\n",
              "      border-radius: 50%;\n",
              "      cursor: pointer;\n",
              "      display: none;\n",
              "      fill: #1967D2;\n",
              "      height: 32px;\n",
              "      padding: 0 0 0 0;\n",
              "      width: 32px;\n",
              "    }\n",
              "\n",
              "    .colab-df-convert:hover {\n",
              "      background-color: #E2EBFA;\n",
              "      box-shadow: 0px 1px 2px rgba(60, 64, 67, 0.3), 0px 1px 3px 1px rgba(60, 64, 67, 0.15);\n",
              "      fill: #174EA6;\n",
              "    }\n",
              "\n",
              "    .colab-df-buttons div {\n",
              "      margin-bottom: 4px;\n",
              "    }\n",
              "\n",
              "    [theme=dark] .colab-df-convert {\n",
              "      background-color: #3B4455;\n",
              "      fill: #D2E3FC;\n",
              "    }\n",
              "\n",
              "    [theme=dark] .colab-df-convert:hover {\n",
              "      background-color: #434B5C;\n",
              "      box-shadow: 0px 1px 3px 1px rgba(0, 0, 0, 0.15);\n",
              "      filter: drop-shadow(0px 1px 2px rgba(0, 0, 0, 0.3));\n",
              "      fill: #FFFFFF;\n",
              "    }\n",
              "  </style>\n",
              "\n",
              "    <script>\n",
              "      const buttonEl =\n",
              "        document.querySelector('#df-6fa64626-4310-46cb-9849-e0eb1029bff2 button.colab-df-convert');\n",
              "      buttonEl.style.display =\n",
              "        google.colab.kernel.accessAllowed ? 'block' : 'none';\n",
              "\n",
              "      async function convertToInteractive(key) {\n",
              "        const element = document.querySelector('#df-6fa64626-4310-46cb-9849-e0eb1029bff2');\n",
              "        const dataTable =\n",
              "          await google.colab.kernel.invokeFunction('convertToInteractive',\n",
              "                                                    [key], {});\n",
              "        if (!dataTable) return;\n",
              "\n",
              "        const docLinkHtml = 'Like what you see? Visit the ' +\n",
              "          '<a target=\"_blank\" href=https://colab.research.google.com/notebooks/data_table.ipynb>data table notebook</a>'\n",
              "          + ' to learn more about interactive tables.';\n",
              "        element.innerHTML = '';\n",
              "        dataTable['output_type'] = 'display_data';\n",
              "        await google.colab.output.renderOutput(dataTable, element);\n",
              "        const docLink = document.createElement('div');\n",
              "        docLink.innerHTML = docLinkHtml;\n",
              "        element.appendChild(docLink);\n",
              "      }\n",
              "    </script>\n",
              "  </div>\n",
              "\n",
              "\n",
              "<div id=\"df-c9170b22-71bd-4e10-af62-6edaf4c72601\">\n",
              "  <button class=\"colab-df-quickchart\" onclick=\"quickchart('df-c9170b22-71bd-4e10-af62-6edaf4c72601')\"\n",
              "            title=\"Suggest charts.\"\n",
              "            style=\"display:none;\">\n",
              "\n",
              "<svg xmlns=\"http://www.w3.org/2000/svg\" height=\"24px\"viewBox=\"0 0 24 24\"\n",
              "     width=\"24px\">\n",
              "    <g>\n",
              "        <path d=\"M19 3H5c-1.1 0-2 .9-2 2v14c0 1.1.9 2 2 2h14c1.1 0 2-.9 2-2V5c0-1.1-.9-2-2-2zM9 17H7v-7h2v7zm4 0h-2V7h2v10zm4 0h-2v-4h2v4z\"/>\n",
              "    </g>\n",
              "</svg>\n",
              "  </button>\n",
              "\n",
              "<style>\n",
              "  .colab-df-quickchart {\n",
              "    background-color: #E8F0FE;\n",
              "    border: none;\n",
              "    border-radius: 50%;\n",
              "    cursor: pointer;\n",
              "    display: none;\n",
              "    fill: #1967D2;\n",
              "    height: 32px;\n",
              "    padding: 0 0 0 0;\n",
              "    width: 32px;\n",
              "  }\n",
              "\n",
              "  .colab-df-quickchart:hover {\n",
              "    background-color: #E2EBFA;\n",
              "    box-shadow: 0px 1px 2px rgba(60, 64, 67, 0.3), 0px 1px 3px 1px rgba(60, 64, 67, 0.15);\n",
              "    fill: #174EA6;\n",
              "  }\n",
              "\n",
              "  [theme=dark] .colab-df-quickchart {\n",
              "    background-color: #3B4455;\n",
              "    fill: #D2E3FC;\n",
              "  }\n",
              "\n",
              "  [theme=dark] .colab-df-quickchart:hover {\n",
              "    background-color: #434B5C;\n",
              "    box-shadow: 0px 1px 3px 1px rgba(0, 0, 0, 0.15);\n",
              "    filter: drop-shadow(0px 1px 2px rgba(0, 0, 0, 0.3));\n",
              "    fill: #FFFFFF;\n",
              "  }\n",
              "</style>\n",
              "\n",
              "  <script>\n",
              "    async function quickchart(key) {\n",
              "      const charts = await google.colab.kernel.invokeFunction(\n",
              "          'suggestCharts', [key], {});\n",
              "    }\n",
              "    (() => {\n",
              "      let quickchartButtonEl =\n",
              "        document.querySelector('#df-c9170b22-71bd-4e10-af62-6edaf4c72601 button');\n",
              "      quickchartButtonEl.style.display =\n",
              "        google.colab.kernel.accessAllowed ? 'block' : 'none';\n",
              "    })();\n",
              "  </script>\n",
              "</div>\n",
              "    </div>\n",
              "  </div>\n"
            ]
          },
          "metadata": {},
          "execution_count": 17
        }
      ]
    },
    {
      "cell_type": "code",
      "source": [
        "# set the font globally\n",
        "# by default, I typically use font \"Times New Roman\".\n",
        "# However, usually at Linux, such a font is not available (unless you install).\n",
        "# so you need to use an alternative version that is very close to Times New Roman.\n",
        "# such a font exists at Linux, it is \"Liberation Serif\".\n",
        "# So if I am using it at Mac, you will see I am using \"Times New Roman\"; at Linux, I am using \"Liberation Serif\".\n",
        "plt.rcParams.update({'font.family':'Liberation Serif', 'mathtext.fontset':'stix', 'mathtext.default':'rm', 'font.size':18, 'lines.linewidth': 2})"
      ],
      "metadata": {
        "id": "eNK9S3AOsNvl"
      },
      "execution_count": null,
      "outputs": []
    },
    {
      "cell_type": "code",
      "source": [
        "# experimental data, to compare with theory\n",
        "data = pd.read_csv('/content/drive/MyDrive/TIDC_Autumn_School_NTU/TIDC_NTU/pi0_phenix_200.dat',sep='\\s+',header=None)\n",
        "data = pd.DataFrame(data)\n",
        "\n",
        "x = data[0]\n",
        "y = data[1]\n",
        "num2 = len(x)\n",
        "yerr = np.sqrt(data[2]**2+data[3]**2)\n",
        "for i in range(num2):\n",
        "    print('%0.3e\\t %0.3e\\t %0.3e' %(x[i], y[i], yerr[i]))\n",
        "\n",
        "plt.figure(figsize=(6, 6))\n",
        "plt.yscale('log')\n",
        "plt.tick_params(axis='both', which='both', direction='in')\n",
        "plt.xlabel('$p_T$ (GeV)')\n",
        "plt.ylabel('$d\\sigma/dyd^2p_T$ ($mb\\cdot GeV^{-2}$)')\n",
        "plt.xlim(0,20)\n",
        "plt.ylim(1.1e-10,1e2)\n",
        "\n",
        "# plot experimental data points\n",
        "plt.errorbar(x, y, yerr = yerr, fmt = 'ro', label='$\\pi^0$ PHENIX', capsize=3, markersize = 6)\n",
        "\n",
        "# plot theory as curve\n",
        "x_val = python_thy[\"pT\"]\n",
        "# over here, I added this \"multiply()\" function to just show\n",
        "# that pandas has this feature to multiply each element of the column\n",
        "y_val = python_thy[\"cross\"].multiply(1.0)\n",
        "plt.plot(x_val, y_val, 'b-')\n",
        "\n",
        "plt.legend(frameon=False)\n",
        "plt.text(10, 0.05, '$\\sqrt{s} = 200$ GeV \\n |y| < 0.35')\n",
        "plt.savefig('RHIC_pp.pdf', bbox_inches='tight')\n",
        "plt.show()"
      ],
      "metadata": {
        "id": "Uu6Lwhs7sQwG",
        "outputId": "a13824a7-8f31-4c47-ea36-bd636447856c",
        "colab": {
          "base_uri": "https://localhost:8080/",
          "height": 408
        }
      },
      "execution_count": 20,
      "outputs": [
        {
          "output_type": "error",
          "ename": "FileNotFoundError",
          "evalue": "ignored",
          "traceback": [
            "\u001b[0;31m---------------------------------------------------------------------------\u001b[0m",
            "\u001b[0;31mFileNotFoundError\u001b[0m                         Traceback (most recent call last)",
            "\u001b[0;32m<ipython-input-20-b09ba32638d4>\u001b[0m in \u001b[0;36m<cell line: 2>\u001b[0;34m()\u001b[0m\n\u001b[1;32m      1\u001b[0m \u001b[0;31m# experimental data, to compare with theory\u001b[0m\u001b[0;34m\u001b[0m\u001b[0;34m\u001b[0m\u001b[0m\n\u001b[0;32m----> 2\u001b[0;31m \u001b[0mdata\u001b[0m \u001b[0;34m=\u001b[0m \u001b[0mpd\u001b[0m\u001b[0;34m.\u001b[0m\u001b[0mread_csv\u001b[0m\u001b[0;34m(\u001b[0m\u001b[0;34m'/content/drive/MyDrive/TIDC_Autumn_School_NTU/TIDC_NTU/pi0_phenix_200.dat'\u001b[0m\u001b[0;34m,\u001b[0m\u001b[0msep\u001b[0m\u001b[0;34m=\u001b[0m\u001b[0;34m'\\s+'\u001b[0m\u001b[0;34m,\u001b[0m\u001b[0mheader\u001b[0m\u001b[0;34m=\u001b[0m\u001b[0;32mNone\u001b[0m\u001b[0;34m)\u001b[0m\u001b[0;34m\u001b[0m\u001b[0;34m\u001b[0m\u001b[0m\n\u001b[0m\u001b[1;32m      3\u001b[0m \u001b[0mdata\u001b[0m \u001b[0;34m=\u001b[0m \u001b[0mpd\u001b[0m\u001b[0;34m.\u001b[0m\u001b[0mDataFrame\u001b[0m\u001b[0;34m(\u001b[0m\u001b[0mdata\u001b[0m\u001b[0;34m)\u001b[0m\u001b[0;34m\u001b[0m\u001b[0;34m\u001b[0m\u001b[0m\n\u001b[1;32m      4\u001b[0m \u001b[0;34m\u001b[0m\u001b[0m\n\u001b[1;32m      5\u001b[0m \u001b[0mx\u001b[0m \u001b[0;34m=\u001b[0m \u001b[0mdata\u001b[0m\u001b[0;34m[\u001b[0m\u001b[0;36m0\u001b[0m\u001b[0;34m]\u001b[0m\u001b[0;34m\u001b[0m\u001b[0;34m\u001b[0m\u001b[0m\n",
            "\u001b[0;32m/usr/local/lib/python3.10/dist-packages/pandas/util/_decorators.py\u001b[0m in \u001b[0;36mwrapper\u001b[0;34m(*args, **kwargs)\u001b[0m\n\u001b[1;32m    209\u001b[0m                 \u001b[0;32melse\u001b[0m\u001b[0;34m:\u001b[0m\u001b[0;34m\u001b[0m\u001b[0;34m\u001b[0m\u001b[0m\n\u001b[1;32m    210\u001b[0m                     \u001b[0mkwargs\u001b[0m\u001b[0;34m[\u001b[0m\u001b[0mnew_arg_name\u001b[0m\u001b[0;34m]\u001b[0m \u001b[0;34m=\u001b[0m \u001b[0mnew_arg_value\u001b[0m\u001b[0;34m\u001b[0m\u001b[0;34m\u001b[0m\u001b[0m\n\u001b[0;32m--> 211\u001b[0;31m             \u001b[0;32mreturn\u001b[0m \u001b[0mfunc\u001b[0m\u001b[0;34m(\u001b[0m\u001b[0;34m*\u001b[0m\u001b[0margs\u001b[0m\u001b[0;34m,\u001b[0m \u001b[0;34m**\u001b[0m\u001b[0mkwargs\u001b[0m\u001b[0;34m)\u001b[0m\u001b[0;34m\u001b[0m\u001b[0;34m\u001b[0m\u001b[0m\n\u001b[0m\u001b[1;32m    212\u001b[0m \u001b[0;34m\u001b[0m\u001b[0m\n\u001b[1;32m    213\u001b[0m         \u001b[0;32mreturn\u001b[0m \u001b[0mcast\u001b[0m\u001b[0;34m(\u001b[0m\u001b[0mF\u001b[0m\u001b[0;34m,\u001b[0m \u001b[0mwrapper\u001b[0m\u001b[0;34m)\u001b[0m\u001b[0;34m\u001b[0m\u001b[0;34m\u001b[0m\u001b[0m\n",
            "\u001b[0;32m/usr/local/lib/python3.10/dist-packages/pandas/util/_decorators.py\u001b[0m in \u001b[0;36mwrapper\u001b[0;34m(*args, **kwargs)\u001b[0m\n\u001b[1;32m    329\u001b[0m                     \u001b[0mstacklevel\u001b[0m\u001b[0;34m=\u001b[0m\u001b[0mfind_stack_level\u001b[0m\u001b[0;34m(\u001b[0m\u001b[0;34m)\u001b[0m\u001b[0;34m,\u001b[0m\u001b[0;34m\u001b[0m\u001b[0;34m\u001b[0m\u001b[0m\n\u001b[1;32m    330\u001b[0m                 )\n\u001b[0;32m--> 331\u001b[0;31m             \u001b[0;32mreturn\u001b[0m \u001b[0mfunc\u001b[0m\u001b[0;34m(\u001b[0m\u001b[0;34m*\u001b[0m\u001b[0margs\u001b[0m\u001b[0;34m,\u001b[0m \u001b[0;34m**\u001b[0m\u001b[0mkwargs\u001b[0m\u001b[0;34m)\u001b[0m\u001b[0;34m\u001b[0m\u001b[0;34m\u001b[0m\u001b[0m\n\u001b[0m\u001b[1;32m    332\u001b[0m \u001b[0;34m\u001b[0m\u001b[0m\n\u001b[1;32m    333\u001b[0m         \u001b[0;31m# error: \"Callable[[VarArg(Any), KwArg(Any)], Any]\" has no\u001b[0m\u001b[0;34m\u001b[0m\u001b[0;34m\u001b[0m\u001b[0m\n",
            "\u001b[0;32m/usr/local/lib/python3.10/dist-packages/pandas/io/parsers/readers.py\u001b[0m in \u001b[0;36mread_csv\u001b[0;34m(filepath_or_buffer, sep, delimiter, header, names, index_col, usecols, squeeze, prefix, mangle_dupe_cols, dtype, engine, converters, true_values, false_values, skipinitialspace, skiprows, skipfooter, nrows, na_values, keep_default_na, na_filter, verbose, skip_blank_lines, parse_dates, infer_datetime_format, keep_date_col, date_parser, dayfirst, cache_dates, iterator, chunksize, compression, thousands, decimal, lineterminator, quotechar, quoting, doublequote, escapechar, comment, encoding, encoding_errors, dialect, error_bad_lines, warn_bad_lines, on_bad_lines, delim_whitespace, low_memory, memory_map, float_precision, storage_options)\u001b[0m\n\u001b[1;32m    948\u001b[0m     \u001b[0mkwds\u001b[0m\u001b[0;34m.\u001b[0m\u001b[0mupdate\u001b[0m\u001b[0;34m(\u001b[0m\u001b[0mkwds_defaults\u001b[0m\u001b[0;34m)\u001b[0m\u001b[0;34m\u001b[0m\u001b[0;34m\u001b[0m\u001b[0m\n\u001b[1;32m    949\u001b[0m \u001b[0;34m\u001b[0m\u001b[0m\n\u001b[0;32m--> 950\u001b[0;31m     \u001b[0;32mreturn\u001b[0m \u001b[0m_read\u001b[0m\u001b[0;34m(\u001b[0m\u001b[0mfilepath_or_buffer\u001b[0m\u001b[0;34m,\u001b[0m \u001b[0mkwds\u001b[0m\u001b[0;34m)\u001b[0m\u001b[0;34m\u001b[0m\u001b[0;34m\u001b[0m\u001b[0m\n\u001b[0m\u001b[1;32m    951\u001b[0m \u001b[0;34m\u001b[0m\u001b[0m\n\u001b[1;32m    952\u001b[0m \u001b[0;34m\u001b[0m\u001b[0m\n",
            "\u001b[0;32m/usr/local/lib/python3.10/dist-packages/pandas/io/parsers/readers.py\u001b[0m in \u001b[0;36m_read\u001b[0;34m(filepath_or_buffer, kwds)\u001b[0m\n\u001b[1;32m    603\u001b[0m \u001b[0;34m\u001b[0m\u001b[0m\n\u001b[1;32m    604\u001b[0m     \u001b[0;31m# Create the parser.\u001b[0m\u001b[0;34m\u001b[0m\u001b[0;34m\u001b[0m\u001b[0m\n\u001b[0;32m--> 605\u001b[0;31m     \u001b[0mparser\u001b[0m \u001b[0;34m=\u001b[0m \u001b[0mTextFileReader\u001b[0m\u001b[0;34m(\u001b[0m\u001b[0mfilepath_or_buffer\u001b[0m\u001b[0;34m,\u001b[0m \u001b[0;34m**\u001b[0m\u001b[0mkwds\u001b[0m\u001b[0;34m)\u001b[0m\u001b[0;34m\u001b[0m\u001b[0;34m\u001b[0m\u001b[0m\n\u001b[0m\u001b[1;32m    606\u001b[0m \u001b[0;34m\u001b[0m\u001b[0m\n\u001b[1;32m    607\u001b[0m     \u001b[0;32mif\u001b[0m \u001b[0mchunksize\u001b[0m \u001b[0;32mor\u001b[0m \u001b[0miterator\u001b[0m\u001b[0;34m:\u001b[0m\u001b[0;34m\u001b[0m\u001b[0;34m\u001b[0m\u001b[0m\n",
            "\u001b[0;32m/usr/local/lib/python3.10/dist-packages/pandas/io/parsers/readers.py\u001b[0m in \u001b[0;36m__init__\u001b[0;34m(self, f, engine, **kwds)\u001b[0m\n\u001b[1;32m   1440\u001b[0m \u001b[0;34m\u001b[0m\u001b[0m\n\u001b[1;32m   1441\u001b[0m         \u001b[0mself\u001b[0m\u001b[0;34m.\u001b[0m\u001b[0mhandles\u001b[0m\u001b[0;34m:\u001b[0m \u001b[0mIOHandles\u001b[0m \u001b[0;34m|\u001b[0m \u001b[0;32mNone\u001b[0m \u001b[0;34m=\u001b[0m \u001b[0;32mNone\u001b[0m\u001b[0;34m\u001b[0m\u001b[0;34m\u001b[0m\u001b[0m\n\u001b[0;32m-> 1442\u001b[0;31m         \u001b[0mself\u001b[0m\u001b[0;34m.\u001b[0m\u001b[0m_engine\u001b[0m \u001b[0;34m=\u001b[0m \u001b[0mself\u001b[0m\u001b[0;34m.\u001b[0m\u001b[0m_make_engine\u001b[0m\u001b[0;34m(\u001b[0m\u001b[0mf\u001b[0m\u001b[0;34m,\u001b[0m \u001b[0mself\u001b[0m\u001b[0;34m.\u001b[0m\u001b[0mengine\u001b[0m\u001b[0;34m)\u001b[0m\u001b[0;34m\u001b[0m\u001b[0;34m\u001b[0m\u001b[0m\n\u001b[0m\u001b[1;32m   1443\u001b[0m \u001b[0;34m\u001b[0m\u001b[0m\n\u001b[1;32m   1444\u001b[0m     \u001b[0;32mdef\u001b[0m \u001b[0mclose\u001b[0m\u001b[0;34m(\u001b[0m\u001b[0mself\u001b[0m\u001b[0;34m)\u001b[0m \u001b[0;34m->\u001b[0m \u001b[0;32mNone\u001b[0m\u001b[0;34m:\u001b[0m\u001b[0;34m\u001b[0m\u001b[0;34m\u001b[0m\u001b[0m\n",
            "\u001b[0;32m/usr/local/lib/python3.10/dist-packages/pandas/io/parsers/readers.py\u001b[0m in \u001b[0;36m_make_engine\u001b[0;34m(self, f, engine)\u001b[0m\n\u001b[1;32m   1733\u001b[0m                 \u001b[0;32mif\u001b[0m \u001b[0;34m\"b\"\u001b[0m \u001b[0;32mnot\u001b[0m \u001b[0;32min\u001b[0m \u001b[0mmode\u001b[0m\u001b[0;34m:\u001b[0m\u001b[0;34m\u001b[0m\u001b[0;34m\u001b[0m\u001b[0m\n\u001b[1;32m   1734\u001b[0m                     \u001b[0mmode\u001b[0m \u001b[0;34m+=\u001b[0m \u001b[0;34m\"b\"\u001b[0m\u001b[0;34m\u001b[0m\u001b[0;34m\u001b[0m\u001b[0m\n\u001b[0;32m-> 1735\u001b[0;31m             self.handles = get_handle(\n\u001b[0m\u001b[1;32m   1736\u001b[0m                 \u001b[0mf\u001b[0m\u001b[0;34m,\u001b[0m\u001b[0;34m\u001b[0m\u001b[0;34m\u001b[0m\u001b[0m\n\u001b[1;32m   1737\u001b[0m                 \u001b[0mmode\u001b[0m\u001b[0;34m,\u001b[0m\u001b[0;34m\u001b[0m\u001b[0;34m\u001b[0m\u001b[0m\n",
            "\u001b[0;32m/usr/local/lib/python3.10/dist-packages/pandas/io/common.py\u001b[0m in \u001b[0;36mget_handle\u001b[0;34m(path_or_buf, mode, encoding, compression, memory_map, is_text, errors, storage_options)\u001b[0m\n\u001b[1;32m    854\u001b[0m         \u001b[0;32mif\u001b[0m \u001b[0mioargs\u001b[0m\u001b[0;34m.\u001b[0m\u001b[0mencoding\u001b[0m \u001b[0;32mand\u001b[0m \u001b[0;34m\"b\"\u001b[0m \u001b[0;32mnot\u001b[0m \u001b[0;32min\u001b[0m \u001b[0mioargs\u001b[0m\u001b[0;34m.\u001b[0m\u001b[0mmode\u001b[0m\u001b[0;34m:\u001b[0m\u001b[0;34m\u001b[0m\u001b[0;34m\u001b[0m\u001b[0m\n\u001b[1;32m    855\u001b[0m             \u001b[0;31m# Encoding\u001b[0m\u001b[0;34m\u001b[0m\u001b[0;34m\u001b[0m\u001b[0m\n\u001b[0;32m--> 856\u001b[0;31m             handle = open(\n\u001b[0m\u001b[1;32m    857\u001b[0m                 \u001b[0mhandle\u001b[0m\u001b[0;34m,\u001b[0m\u001b[0;34m\u001b[0m\u001b[0;34m\u001b[0m\u001b[0m\n\u001b[1;32m    858\u001b[0m                 \u001b[0mioargs\u001b[0m\u001b[0;34m.\u001b[0m\u001b[0mmode\u001b[0m\u001b[0;34m,\u001b[0m\u001b[0;34m\u001b[0m\u001b[0;34m\u001b[0m\u001b[0m\n",
            "\u001b[0;31mFileNotFoundError\u001b[0m: [Errno 2] No such file or directory: '/content/drive/MyDrive/TIDC_Autumn_School_NTU/TIDC_NTU/pi0_phenix_200.dat'"
          ]
        }
      ]
    },
    {
      "cell_type": "code",
      "source": [],
      "metadata": {
        "id": "FmgW9yqSsVOI"
      },
      "execution_count": null,
      "outputs": []
    }
  ]
}